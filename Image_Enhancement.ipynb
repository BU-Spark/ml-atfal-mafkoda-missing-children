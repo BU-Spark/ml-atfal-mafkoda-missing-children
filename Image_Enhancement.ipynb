{
 "cells": [
  {
   "cell_type": "markdown",
   "id": "30526352",
   "metadata": {},
   "source": [
    "# Import Libraries"
   ]
  },
  {
   "cell_type": "code",
   "execution_count": null,
   "id": "6f13ac37",
   "metadata": {
    "scrolled": true
   },
   "outputs": [],
   "source": [
    "import os\n",
    "from os import listdir\n",
    "from PIL import Image\n",
    "import cv2\n",
    "from IPython import display\n",
    "import matplotlib.pyplot as plt\n",
    "import tensorflow as tf\n",
    "import tensorflow_hub as hub\n",
    "import requests\n",
    "import numpy as np\n",
    "from cv2 import dnn_superres\n",
    "from tqdm import tqdm"
   ]
  },
  {
   "cell_type": "markdown",
   "id": "c1120d0b",
   "metadata": {},
   "source": [
    "# Show the original image (Before Enhancement)"
   ]
  },
  {
   "cell_type": "code",
   "execution_count": null,
   "id": "e7f7c3c9",
   "metadata": {},
   "outputs": [],
   "source": [
    "# identify the folder path\n",
    "# please change to your desired directory\n",
    "folder_dir = '/projectnb/sparkgrp/ml-atfal-mafkoda-grp/atfalmafkoda_unzip/test_images'\n",
    "new_folder_dir = '/projectnb/sparkgrp/ml-atfal-mafkoda-grp/atfalmafkoda_unzip/test_images_to_png'"
   ]
  },
  {
   "cell_type": "code",
   "execution_count": null,
   "id": "10da93a1",
   "metadata": {},
   "outputs": [],
   "source": [
    "# save the old image to the new database\n",
    "for image in os.listdir(folder_dir):\n",
    "    image_dir = folder_dir + \"/\" + image\n",
    "    new_name = image.split(\".\")[0]+\".png\"\n",
    "    new_image_dir = new_folder_dir + \"/\" + new_name\n",
    "    img = Image.open(image_dir)\n",
    "    img.save(new_image_dir)"
   ]
  },
  {
   "cell_type": "code",
   "execution_count": null,
   "id": "efca827c",
   "metadata": {
    "scrolled": true
   },
   "outputs": [],
   "source": [
    "# Take a look at the original image\n",
    "# please change to your desired directory\n",
    "img = cv2.imread(\"/projectnb/sparkgrp/ml-atfal-mafkoda-grp/atfalmafkoda_unzip/test_images_to_png/13423956_1589176414713313_8303249397443743699_n_1589176414713313.png\")\n",
    "plt.imshow(img[:,:,::-1])\n",
    "plt.show()"
   ]
  },
  {
   "cell_type": "markdown",
   "id": "afd15b7d",
   "metadata": {},
   "source": [
    "# Testing on EDSR_x4 model"
   ]
  },
  {
   "cell_type": "code",
   "execution_count": null,
   "id": "ed5e2d9c",
   "metadata": {},
   "outputs": [],
   "source": [
    "# initialize super resolution object\n",
    "sr = dnn_superres.DnnSuperResImpl_create()\n",
    "\n",
    "# read the model\n",
    "# you may need to change the path here to load the model\n",
    "# feel free to try other models, such as LapSRN_x8.pb\n",
    "# please change to your desired directory\n",
    "path = 'EDSR_x4.pb'\n",
    "sr.readModel(path)\n",
    "\n",
    "# set the model and scale\n",
    "sr.setModel('edsr', 4)"
   ]
  },
  {
   "cell_type": "code",
   "execution_count": null,
   "id": "6cac2309",
   "metadata": {},
   "outputs": [],
   "source": [
    "# Read in an image\n",
    "# please change to your desired directory\n",
    "img = cv2.imread(\"/projectnb/sparkgrp/ml-atfal-mafkoda-grp/atfalmafkoda_unzip/test_images_to_png/13423956_1589176414713313_8303249397443743699_n_1589176414713313.png\")"
   ]
  },
  {
   "cell_type": "code",
   "execution_count": null,
   "id": "75e0e673",
   "metadata": {},
   "outputs": [],
   "source": [
    "# upsample the image\n",
    "for i in tqdm(range(2)):\n",
    "    upscaled = sr.upsample(img)\n",
    "    img = upscaled\n",
    "# save the upscaled image\n",
    "# please change to your desired directory\n",
    "cv2.imwrite('upscaled_test.png', upscaled)"
   ]
  },
  {
   "cell_type": "code",
   "execution_count": null,
   "id": "ddc7148a",
   "metadata": {},
   "outputs": [],
   "source": [
    "# traditional interpolation method - bicubic\n",
    "# feel free to change to other interpolation methods\n",
    "bicubic = cv2.resize(img, (upscaled.shape[1], upscaled.shape[0]), interpolation=cv2.INTER_CUBIC)\n",
    "# save the image\n",
    "# please change to your desired directory\n",
    "cv2.imwrite('bicubic_test.png', bicubic)"
   ]
  },
  {
   "cell_type": "code",
   "execution_count": null,
   "id": "93a0ef61",
   "metadata": {},
   "outputs": [],
   "source": [
    "# show the image after enahcnement\n",
    "# please change to your desired directory\n",
    "img = cv2.imread(\"upscaled_test.png\")\n",
    "plt.imshow(img[:,:,::-1])\n",
    "plt.show()"
   ]
  },
  {
   "cell_type": "code",
   "execution_count": null,
   "id": "0145368f",
   "metadata": {},
   "outputs": [],
   "source": [
    "# show the image after enhancement and interpolation\n",
    "# please change to your desired directory\n",
    "img = cv2.imread(\"bicubic_test.png\")\n",
    "plt.imshow(img[:,:,::-1])\n",
    "plt.show()"
   ]
  },
  {
   "cell_type": "markdown",
   "id": "96bf9cef",
   "metadata": {},
   "source": [
    "# Testing on LapSRN_x8 model"
   ]
  },
  {
   "cell_type": "code",
   "execution_count": null,
   "id": "8183fb32",
   "metadata": {},
   "outputs": [],
   "source": [
    "# initialize super resolution object\n",
    "sr = dnn_superres.DnnSuperResImpl_create()\n",
    "\n",
    "# read the model\n",
    "# please change to your desired directory\n",
    "path = 'LapSRN_x8.pb'\n",
    "sr.readModel(path)\n",
    "\n",
    "# set the model and scale\n",
    "sr.setModel('lapsrn', 8)"
   ]
  },
  {
   "cell_type": "code",
   "execution_count": null,
   "id": "81f5ecda",
   "metadata": {},
   "outputs": [],
   "source": [
    "# upsample the image\n",
    "upscaled = sr.upsample(img)\n",
    "# save the upscaled image\n",
    "# please change to your desired directory\n",
    "cv2.imwrite('upscaled_test_lapsrn.png', upscaled)"
   ]
  },
  {
   "cell_type": "code",
   "execution_count": null,
   "id": "5b647f94",
   "metadata": {},
   "outputs": [],
   "source": [
    "# show the image after enahcnement\n",
    "# please change to your desired directory\n",
    "img = cv2.imread(\"upscaled_test_lapsrn.png\")\n",
    "plt.imshow(img[:,:,::-1])\n",
    "plt.show()"
   ]
  },
  {
   "cell_type": "code",
   "execution_count": null,
   "id": "b91e8308",
   "metadata": {},
   "outputs": [],
   "source": [
    "# traditional interpolation method - bicubic\n",
    "# feel free to change to other interpolation methods\n",
    "bicubic = cv2.resize(img, (upscaled.shape[1], upscaled.shape[0]), interpolation=cv2.INTER_CUBIC)\n",
    "# save the image\n",
    "# please change to your desired directory\n",
    "cv2.imwrite('bicubic_test_8x.png', bicubic)"
   ]
  },
  {
   "cell_type": "code",
   "execution_count": null,
   "id": "ab9dbbd0",
   "metadata": {},
   "outputs": [],
   "source": [
    "# show the image after enhancement and interpolation\n",
    "# please change to your desired directory\n",
    "img = cv2.imread(\"bicubic_test_8x.png\")\n",
    "plt.imshow(img[:,:,::-1])\n",
    "plt.show()"
   ]
  }
 ],
 "metadata": {
  "kernelspec": {
   "display_name": "pytorch",
   "language": "python",
   "name": "pytorch"
  },
  "language_info": {
   "codemirror_mode": {
    "name": "ipython",
    "version": 3
   },
   "file_extension": ".py",
   "mimetype": "text/x-python",
   "name": "python",
   "nbconvert_exporter": "python",
   "pygments_lexer": "ipython3",
   "version": "3.8.10"
  }
 },
 "nbformat": 4,
 "nbformat_minor": 5
}
